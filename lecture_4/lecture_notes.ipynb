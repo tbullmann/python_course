{
 "cells": [
  {
   "cell_type": "markdown",
   "metadata": {
    "collapsed": true
   },
   "source": [
    "### Funktionen zur Dateiarbeit\n",
    "Das Modul io stellt diverse Funktionen und Klassen zur Dateiarbeit bereit.\n",
    "Die Builtin-Funktion ```open(file)``` ist bei Python 3 ein Alias für die Funktion\n",
    "```pyhton\n",
    "io.open(file, mode='r', buffering=-1, encoding=None,\n",
    "errors=None, newline=None, closefd=True,\n",
    "opener=None)\n",
    "```\n",
    "Der erste Parameter gibt den Pfad der zu öffnenden Datei file an. Alle\n",
    "weiteren Parameter sind optional. Im Falle eines Fehlers wird ein OSError\n",
    "oder ein davon abgeleiteter Fehler erzeugt. Der Rückgabewert der Funktion\n",
    "ist ein Dateiobjekt der Klasse IOBase oder einer davon abgeleiteten Klasse.\n",
    "Siehe https://docs.python.org/3/library/io.html"
   ]
  },
  {
   "cell_type": "code",
   "execution_count": 1,
   "metadata": {
    "collapsed": false
   },
   "outputs": [
    {
     "name": "stdout",
     "output_type": "stream",
     "text": [
      "<type 'file'>\n"
     ]
    }
   ],
   "source": [
    "file = open(\"1PQS.pdb\", \"r\")\n",
    "print(type(file))\n",
    "file.close()"
   ]
  },
  {
   "cell_type": "markdown",
   "metadata": {},
   "source": [
    "Dateiobjekte sind iterierbar:"
   ]
  },
  {
   "cell_type": "code",
   "execution_count": 3,
   "metadata": {
    "collapsed": false
   },
   "outputs": [
    {
     "name": "stdout",
     "output_type": "stream",
     "text": [
      ">3IZ0:A|PDBID|CHAIN|SEQUENCE\n",
      "\n",
      "MRECISIHVGQAGVQIGNACWELYCLEHGIQPDGQMPSDKTIGGGDDSFNTFFSETGAGKHVPRAVFVDLEPTVIDEVRT\n",
      "\n",
      "GTYRQLFHPEQLITGKEDAANNYARGHYTIGKEIIDLVLDRIRKLADQCTGLQGFSVFHSFGGGTGSGFTSLLMERLSVD\n",
      "\n",
      "YGKKSKLEFSIYPAPQVSTAVVEPYNSILTTHTTLEHSDCAFMVDNEAIYDICRRNLDIERPTYTNLNRLIGQIVSSITA\n",
      "\n",
      "SLRFDGALNVDLTEFQTNLVPYPRGHFPLATYAPVISAEKAYHEQLSVAEITNACFEPANQMVKCDPRHGKYMACCLLYR\n",
      "\n",
      "GDVVPKDVNAAIATIKTKRTIQFVDWCPTGFKVGINYEPPTVVPGGDLAKVQRAVCMLSNTTAIAEAWARLDHKFDLMYA\n",
      "\n",
      "KRAFVHWYVGEGMEEGEFSEAREDMAALEKDYEEVGVDSVEGEGEEEGEEY\n",
      "\n",
      "\n",
      "\n",
      ">3IZ0:B|PDBID|CHAIN|SEQUENCE\n",
      "\n",
      "MREIVHIQAGQCGNQIGAKFWEVISDEHGIDPTGSYHGDSDLQLERINVYYNEAAGNKYVPRAILVDLEPGTMDSVRSGP\n",
      "\n",
      "FGQIFRPDNFVFGQSGAGNNWAKGHYTEGAELVDSVLDVVRKESESCDCLQGFQLTHSLGGGTGSGMGTLLISKIREEYP\n",
      "\n",
      "DRIMNTFSVVPSPKVSDTVVEPYNATLSVHQLVENTDETYCIDNEALYDICFRTLKLTTPTYGDLNHLVSATMSGVTTCL\n",
      "\n",
      "RFPGQLNADLRKLAVNMVPFPRLHFFMPGFAPLTSRGSQQYRALTVPELTQQMFDAKNMMAACDPRHGRYLTVAAVFRGR\n",
      "\n",
      "MSMKEVDEQMLNVQNKNSSYFVEWIPNNVKTAVCDIPPRGLKMSATFIGNSTAIQELFKRISEQFTAMFRRKAFLHWYTG\n",
      "\n",
      "EGMDEMEFTEAESNMNDLVSEYQQYQDATADEQGEFEEEGEEDEA\n",
      "\n",
      "\n",
      "\n",
      ">3IZ0:C|PDBID|CHAIN|SEQUENCE\n",
      "\n",
      "MIKDPRPLNDKAFIQQCIRQLCEFLTENGYAHNVSMKSLQAPSVKDFLKIFTFLYGFLCPSYELPDTKFEEEVPRIFKDL\n",
      "\n",
      "GYPFALSKSSMYTVGAPHTWPHIVAALVWLIDCIKIHTAMKESSPLFDDGQPWGEETEDGIMHNKLFLDYTIKCYESFMS\n",
      "\n",
      "GADSFDEMNAELQSKLKDLFNVDAFKLESLEAKNRALNEQIARLEQERSTANKANAERLKRLQKSADLYKDRLGLEIRKI\n",
      "\n",
      "YGEKLQFIFTNIDPKNPESPFMFSLHLNEARDYEVSDSAPHLEGLAEFQENVRKTNNFSAFLANVRKAFTATVYQ\n",
      "\n",
      "\n",
      "\n",
      ">3IZ0:D|PDBID|CHAIN|SEQUENCE\n",
      "\n",
      "GPLGSMETLSFPRYNVAEIVIHIRNKILTGADGKNLTKNDLYPNPKPEVLHMIYMRALQIVYGIRLEHFYMMPVNSGVMY\n",
      "\n",
      "PHLMEGFLPFSNLVTHLDSFLPICRVNDFETADILCPKAKRTSRFLSGIINFIHFREACRETYMEFLWQYKSSADKMQQL\n",
      "\n",
      "NAAHQEALMKLERLEKEVDEDTTVTIPSAVYVAQLYHQVSKIEWEYECEPGMVKGIHHGPSVAQPIHLDSTQLSRKFISD\n",
      "\n",
      "YLWSLVDTEW\n",
      "\n",
      "\n",
      "\n",
      ">3IZ0:E|PDBID|CHAIN|SEQUENCE\n",
      "\n",
      "MIKDPRPLNDKAFIQQCIRQLCEFLTENGYAHNVSMKSLQAPSVKDFLKIFTFLYGFLCPSYELPDTKFEEEVPRIFKDL\n",
      "\n",
      "GYPFALSKSSMYTVGAPHTWPHIVAALVWLIDCIKIHTAMKESSPLFDDGQPWGEETEDGIMHNKLFLDYTIKCYESFMS\n",
      "\n",
      "GADSFDEMNAELQSKLKDLFNVDAFKLESLEAKNRALNEQIARLEQERSTANKANAERLKRLQKSADLYKDRLGLEIRKI\n",
      "\n",
      "YGEKLQFIFTNIDPKNPESPFMFSLHLNEARDYEVSDSAPHLEGLAEFQENVRKTNNFSAFLANVRKAFTATVYQ\n",
      "\n",
      "\n",
      "\n",
      ">3IZ0:F|PDBID|CHAIN|SEQUENCE\n",
      "\n",
      "GPLGSMETLSFPRYNVAEIVIHIRNKILTGADGKNLTKNDLYPNPKPEVLHMIYMRALQIVYGIRLEHFYMMPVNSGVMY\n",
      "\n",
      "PHLMEGFLPFSNLVTHLDSFLPICRVNDFETADILCPKAKRTSRFLSGIINFIHFREACRETYMEFLWQYKSSADKMQQL\n",
      "\n",
      "NAAHQEALMKLERLEKEVDEDTTVTIPSAVYVAQLYHQVSKIEWEYECEPGMVKGIHHGPSVAQPIHLDSTQLSRKFISD\n",
      "\n",
      "YLWSLVDTEW\n",
      "\n"
     ]
    }
   ],
   "source": [
    "file = open(\"3IZ0.fasta.txt\", \"r\")\n",
    "for line in file:\n",
    "    print(line)\n",
    "file.close()"
   ]
  },
  {
   "cell_type": "markdown",
   "metadata": {},
   "source": [
    "### Einlesen eines FASTA flat files\n",
    "\n",
    "Wir wollen jetzt folgenden Pseudocode implementieren:\n",
    "\n",
    "```\n",
    "Öffne Datei\n",
    "Lege leeres Verzeichnis an\n",
    "Lies nacheinandere jede Zeile aus der Datei und mache folgendes:\n",
    "    Entferne Zeilenumbrüche aus der Zeile\n",
    "    Wenn Zeile mit \">\" anfängt:\n",
    "        Lies aktuelle Annotation \n",
    "        Lege im Verzeichnis eine neue Sequenz mit dieser Annotation als Schlüssel an\n",
    "    sonst wenn Zeile mit \";\" anfängt: \n",
    "        Diese Zeile ignorieren\n",
    "    ansonsten: \n",
    "        Sequenz mit aktueller Annotation um Zeile ergänzen\n",
    "Datei schließen\n",
    "```"
   ]
  },
  {
   "cell_type": "code",
   "execution_count": 4,
   "metadata": {
    "collapsed": false
   },
   "outputs": [
    {
     "ename": "IndentationError",
     "evalue": "unexpected indent (<ipython-input-4-edc8cce374a7>, line 2)",
     "traceback": [
      "\u001b[0;36m  File \u001b[0;32m\"<ipython-input-4-edc8cce374a7>\"\u001b[0;36m, line \u001b[0;32m2\u001b[0m\n\u001b[0;31m    sequences = {}                         # Initialize empty dictionary\u001b[0m\n\u001b[0m    ^\u001b[0m\n\u001b[0;31mIndentationError\u001b[0m\u001b[0;31m:\u001b[0m unexpected indent\n"
     ],
     "output_type": "error"
    }
   ],
   "source": [
    "fasta_file = open(filename)\n",
    "sequences = {}                         # Initialize empty dictionary\n",
    "for line in fasta_file:\n",
    "    line = line.replace(\"\\r\",\"\").replace(\"\\n\",\"\")\n",
    "    if line.startswith(\">\"):\n",
    "        annotation = line[1:]          # Get annotation from the line after \">\"\n",
    "        sequences[annotation] = \"\"     # Start new sequence with this annotation\n",
    "    elif line.startswith(\";\"):\n",
    "        pass                           # Ignore chain information after \";\"\n",
    "    else:\n",
    "        sequences[annotation] += line  # Append sequence with this annotation\n",
    "    fasta_file.close()"
   ]
  },
  {
   "cell_type": "code",
   "execution_count": null,
   "metadata": {
    "collapsed": true
   },
   "outputs": [],
   "source": [
    ""
   ]
  }
 ],
 "metadata": {
  "anaconda-cloud": {},
  "kernelspec": {
   "display_name": "Python [Root]",
   "language": "python",
   "name": "Python [Root]"
  },
  "language_info": {
   "codemirror_mode": {
    "name": "ipython",
    "version": 2.0
   },
   "file_extension": ".py",
   "mimetype": "text/x-python",
   "name": "python",
   "nbconvert_exporter": "python",
   "pygments_lexer": "ipython2",
   "version": "2.7.11"
  }
 },
 "nbformat": 4,
 "nbformat_minor": 0
}